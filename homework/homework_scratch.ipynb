{
 "cells": [
  {
   "cell_type": "markdown",
   "metadata": {},
   "source": [
    "# Task 1"
   ]
  },
  {
   "cell_type": "code",
   "execution_count": null,
   "metadata": {},
   "outputs": [],
   "source": [
    "# Task: Introduction to Eigenvalues and Eigenvectors\n",
    "\n",
    "# 1. Import numpy with its corresponding alias."
   ]
  },
  {
   "cell_type": "code",
   "execution_count": null,
   "metadata": {},
   "outputs": [],
   "source": [
    "# 2. Initialize a square matrix A to be the following:\n",
    "# | 4 3 |\n",
    "# | 1 3 |\n"
   ]
  },
  {
   "cell_type": "code",
   "execution_count": null,
   "metadata": {},
   "outputs": [],
   "source": [
    "# 3. Use the np.linalg.eig function to calculate the eigenvalues and eigenvectors of A.\n",
    "#    - Save the eigenvalues in a variable called eigenvalues.\n",
    "#    - Save the eigenvectors_as_cols in a variable called eigenvectors."
   ]
  },
  {
   "cell_type": "code",
   "execution_count": null,
   "metadata": {},
   "outputs": [],
   "source": [
    "# 4. Use a list comprehension to convert eigenvectors_as_cols to a list of eigenvectors.\n",
    "# Save the output to a variable called eigenvectors."
   ]
  },
  {
   "cell_type": "code",
   "execution_count": null,
   "metadata": {},
   "outputs": [],
   "source": [
    "# 5. Print:\n",
    "# Eigenvalues: ###\n",
    "# where ### are the eigenvalues from above."
   ]
  },
  {
   "cell_type": "code",
   "execution_count": null,
   "metadata": {},
   "outputs": [],
   "source": [
    "# 6. Print:\n",
    "# Eigenvectors as columns: ###\n",
    "# where ### is the eigenvectors_as_cols variable from above."
   ]
  },
  {
   "cell_type": "code",
   "execution_count": null,
   "metadata": {},
   "outputs": [],
   "source": [
    "# 7. Print:\n",
    "# List of eigenvectors: ###\n",
    "# where ### is the list of eigenvectors you created."
   ]
  },
  {
   "cell_type": "code",
   "execution_count": null,
   "metadata": {},
   "outputs": [],
   "source": [
    "# 8. Create a function called check_eigensystem that verifies whether a set of vectors and a set of eigenvalues\n",
    "# represents the eigensystem of A.\n",
    "#    - Parameters:\n",
    "#      - A: The matrix for which the eigenvector is being checked.\n",
    "#      - eigenvalues: The corresponding list of eigenvalues.\n",
    "#      - eigenvectors: The list of vectors being tested as eigenvectors.\n",
    "\n",
    "\n",
    "\n",
    "    # 9. Use a loop and the zip function to iterate through each eigenvalue-eigenvector pair.\n",
    "\n",
    "\n",
    "\n",
    "        # 10. Use numpy's allclose comparison operator to check if the pair\n",
    "        # is indeed an eigenvalue-eigenvector pair of A. If it is not, print\n",
    "        # the message:\n",
    "        # Not a valid eigenvalue-eigenvector pair of #: ##, ###\n",
    "        # Where # is A, ## is the eigenvalue, and ### is the eigenvector.\n",
    "        # And return the boolean False.\n",
    "\n",
    "\n",
    "\n",
    "    # 11. If all pairs pass the eigenvalue-eigenvector tests for A, return True.\n"
   ]
  },
  {
   "cell_type": "code",
   "execution_count": null,
   "metadata": {},
   "outputs": [],
   "source": [
    "# 12. Apply the check_eigensystem function to the matrix, eigenvectors, and eigenvalues from 5 & 7."
   ]
  },
  {
   "cell_type": "markdown",
   "metadata": {},
   "source": [
    "# Task 2"
   ]
  },
  {
   "cell_type": "code",
   "execution_count": null,
   "metadata": {},
   "outputs": [],
   "source": [
    "# Task: Implement the Power Method for Finding the Largest Eigenvalue and Corresponding Eigenvector\n",
    "\n",
    "# 1. Import numpy with its corresponding alias."
   ]
  },
  {
   "cell_type": "code",
   "execution_count": null,
   "metadata": {},
   "outputs": [],
   "source": [
    "# 2. Define a function power_method that finds the largest eigenvalue and the corresponding eigenvector.\n",
    "#    - Parameters:\n",
    "#      - A: The matrix for which you want to find the largest eigenvalue.\n",
    "#      - b: The initial guess for the eigenvector.\n",
    "#      - num_iter: The number of iterations to run the power method.\n",
    "\n",
    "\n",
    "\n",
    "    # 3. Set the numpy random seed value to 13.\n",
    "\n",
    "\n",
    "\n",
    "    # 4. Initialize a variable called eigenvector and set it equal to a random vector\n",
    "    # with the correct length.\n",
    "\n",
    "\n",
    "\n",
    "    # 5. Loop through the prescribed number of iterations.\n",
    "\n",
    "\n",
    "\n",
    "        # 6. Update eigenvector via the correct matrix multiplication.\n",
    "\n",
    "\n",
    "\n",
    "        # 7. Update eigenvector so that it is normalized.\n",
    "\n",
    "\n",
    "\n",
    "    # 8. Compute the Rayleigh quotient to approximate the largest eigenvalue.\n",
    "    # Call the output eigenvalue.\n",
    "\n",
    "\n",
    "\n",
    "    # 9. Return the eigenvalue, eigenvector pair.\n"
   ]
  },
  {
   "cell_type": "code",
   "execution_count": null,
   "metadata": {},
   "outputs": [],
   "source": [
    "# 10. Import the check_eigensystem function from task_1."
   ]
  },
  {
   "cell_type": "code",
   "execution_count": null,
   "metadata": {},
   "outputs": [],
   "source": [
    "# 11. Initialize a square matrix A to be the following:\n",
    "# | 4 3 |\n",
    "# | 1 3 |"
   ]
  },
  {
   "cell_type": "code",
   "execution_count": null,
   "metadata": {},
   "outputs": [],
   "source": [
    "# 12. Use the power_method function with 1000 iterations to calculate the\n",
    "# largest eigenvalue and corresponding eigenvector of A."
   ]
  },
  {
   "cell_type": "code",
   "execution_count": null,
   "metadata": {},
   "outputs": [],
   "source": [
    "# 13. Use the check_eigensystem function to confirm that the eigenvalue and\n",
    "# eigenvector above is indeed an eigenpair of A. You will have to input\n",
    "# the eigenvalue and eigenvector each as a list (of one element each)."
   ]
  },
  {
   "cell_type": "markdown",
   "metadata": {},
   "source": [
    "# Task 3"
   ]
  },
  {
   "cell_type": "code",
   "execution_count": null,
   "metadata": {},
   "outputs": [],
   "source": [
    "# Task: Implement the QR-Algorithm for Finding the Spectrum of a Matrix\n",
    "\n",
    "# 1. Import numpy with its corresponding alias."
   ]
  },
  {
   "cell_type": "code",
   "execution_count": null,
   "metadata": {},
   "outputs": [],
   "source": [
    "# 2. Define a function qr_decomposition that returns two matrices Q (orthogonal) and R (upper triangular)\n",
    "# such that A = QR, where A is a square matrix.\n",
    "#    - Parameters:\n",
    "#      - A: The square matrix whose QR decomposition is to be computed.\n",
    "\n",
    "\n",
    "\n",
    "    # 3. Initialize a variable n to be the number of rows (and columns) of A.\n",
    "\n",
    "\n",
    "\n",
    "    # 4. Initialize U as an all-zero matrix with the same dimensions as A and float data type.\n",
    "\n",
    "\n",
    "\n",
    "    # 5. Initialize Q as an all-zero matrix with the same dimensions as A and float data type.\n",
    "\n",
    "\n",
    "\n",
    "    # 6. Initialize R as an all-zero matrix with the same dimensions as A and float data type.\n",
    "\n",
    "\n",
    "\n",
    "    # 7. Start the Gram-Schmidt process by iterating through each column of A.\n",
    "    # Use i as the dummy variable in the loop.\n",
    "\n",
    "\n",
    "        # 8. Set the i-th column of U to the i-th column of A.\n",
    "\n",
    "\n",
    "\n",
    "        # 9. Iterate through each of the *previous* columns\n",
    "        # of A. Use j as the dummy variable in the loop.\n",
    "\n",
    "\n",
    "            # 10. Compute the projection of the i-th column of A onto\n",
    "            # the j-th column of Q. Call the output proj.\n",
    "\n",
    "\n",
    "\n",
    "            # 11. Update the i-th column of U to subtract the projection above.\n",
    "\n",
    "\n",
    "\n",
    "        # 12. Update the i-th column of Q to be the normalized i-th column of U.\n",
    "\n",
    "\n",
    "\n",
    "    # 13. Compute R.\n",
    "\n",
    "\n",
    "\n",
    "    # 14. Return the matrices Q and R.\n"
   ]
  },
  {
   "cell_type": "code",
   "execution_count": null,
   "metadata": {},
   "outputs": [],
   "source": [
    "# 15. Define a function qr_algorithm that finds all eigenvalues of a matrix A.\n",
    "#    - Parameters:\n",
    "#      - A: The matrix for which you want to find eigenvalues.\n",
    "#      - num_iter: The number of iterations to run the QR algorithm.\n",
    "\n",
    "\n",
    "\n",
    "    # 16. Initialize a variable called A_k and set it equal to a copy of A.\n",
    "\n",
    "\n",
    "\n",
    "    # 17. Loop through the prescribed number of iterations.\n",
    "\n",
    "\n",
    "\n",
    "        # 18. Use the qr_decomposition function defined above to calculate the QR decomposition of A_k.\n",
    "\n",
    "\n",
    "\n",
    "        # 19. Update A_k using the matrices R and Q.\n",
    "\n",
    "\n",
    "\n",
    "    # 20. Initialize the variable eigenvalues and set it to the values on the diagonal of A_k\n",
    "\n",
    "\n",
    "\n",
    "    # 21. Return the list of eigenvalues."
   ]
  }
 ],
 "metadata": {
  "language_info": {
   "name": "python"
  }
 },
 "nbformat": 4,
 "nbformat_minor": 2
}
